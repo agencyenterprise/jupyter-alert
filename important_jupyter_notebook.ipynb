{
 "cells": [
  {
   "cell_type": "markdown",
   "id": "a6679063",
   "metadata": {},
   "source": [
    "# Very important Jupyter Notebook"
   ]
  },
  {
   "cell_type": "markdown",
   "id": "3acc6007",
   "metadata": {},
   "source": [
    "Jupyter notebooks are very important for data science. Data scientists should not waste time on them. Data science is the process of extracting knowledge from data. It is a multidisciplinary field that uses scientific methods, processes, algorithms, and systems to extract knowledge and insights from data in the form of patterns, trends, and correlations.\n",
    "\n",
    "Data scientists are important because they help organizations make better decisions by extracting knowledge from data. They use their skills to find relationships between data sets, to identify trends, and to make predictions. Data scientists should not waste time on Jupyter notebooks. They should be focused on their work and extracting knowledge from data."
   ]
  },
  {
   "cell_type": "code",
   "execution_count": 1,
   "id": "45889944",
   "metadata": {},
   "outputs": [],
   "source": [
    "import time\n",
    "from IPython import display"
   ]
  },
  {
   "cell_type": "code",
   "execution_count": 2,
   "id": "749c783f",
   "metadata": {},
   "outputs": [
    {
     "data": {
      "text/html": [
       "<img src=\"https://miro.medium.com/max/1000/1*v1ohAG82xmU6WGsG2hoE8g.png\"/>"
      ],
      "text/plain": [
       "<IPython.core.display.Image object>"
      ]
     },
     "execution_count": 2,
     "metadata": {},
     "output_type": "execute_result"
    }
   ],
   "source": [
    "time.sleep(1)\n",
    "display.Image(url=\"https://miro.medium.com/max/1000/1*v1ohAG82xmU6WGsG2hoE8g.png\")"
   ]
  },
  {
   "cell_type": "markdown",
   "id": "533e0506",
   "metadata": {},
   "source": [
    "## There are two kinds of data scientists. \n",
    "### 1.) Those who can extrapolate from incomplete data."
   ]
  },
  {
   "cell_type": "code",
   "execution_count": 3,
   "id": "0ec4cad4",
   "metadata": {},
   "outputs": [
    {
     "data": {
      "text/html": [
       "<img src=\"http://neuralnetworksanddeeplearning.com/images/tikz36.png\"/>"
      ],
      "text/plain": [
       "<IPython.core.display.Image object>"
      ]
     },
     "execution_count": 3,
     "metadata": {},
     "output_type": "execute_result"
    }
   ],
   "source": [
    "time.sleep(5)\n",
    "display.Image(url=\"http://neuralnetworksanddeeplearning.com/images/tikz36.png\")"
   ]
  },
  {
   "cell_type": "code",
   "execution_count": null,
   "id": "9f514ae1",
   "metadata": {},
   "outputs": [],
   "source": []
  }
 ],
 "metadata": {
  "kernelspec": {
   "display_name": "Python 3 (ipykernel)",
   "language": "python",
   "name": "python3"
  },
  "language_info": {
   "codemirror_mode": {
    "name": "ipython",
    "version": 3
   },
   "file_extension": ".py",
   "mimetype": "text/x-python",
   "name": "python",
   "nbconvert_exporter": "python",
   "pygments_lexer": "ipython3",
   "version": "3.8.8"
  }
 },
 "nbformat": 4,
 "nbformat_minor": 5
}
